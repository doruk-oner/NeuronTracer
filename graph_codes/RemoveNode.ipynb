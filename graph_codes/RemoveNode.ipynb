{
 "cells": [
  {
   "cell_type": "code",
   "execution_count": null,
   "metadata": {},
   "outputs": [],
   "source": [
    "import numpy as np\n",
    "from matplotlib import pyplot as plt\n",
    "import networkx as nx\n",
    "from graph_from_skeleton.graph_from_skeleton import *\n",
    "from graph_from_skeleton.utils import *\n",
    "%matplotlib inline"
   ]
  },
  {
   "cell_type": "code",
   "execution_count": null,
   "metadata": {},
   "outputs": [],
   "source": [
    "pruned_graph = load_graph_txt(\"../DemoData/pruned_graph.txt\")"
   ]
  },
  {
   "cell_type": "code",
   "execution_count": null,
   "metadata": {},
   "outputs": [],
   "source": [
    "## Adding edge lengths to edge data\n",
    "for n1, n2, d in pruned_graph.edges(data=True):\n",
    "    pos1 = np.array(pruned_graph.nodes[n1][\"pos\"])\n",
    "    pos2 = np.array(pruned_graph.nodes[n2][\"pos\"])\n",
    "    \n",
    "    d[\"length\"] = np.linalg.norm(pos1-pos2)"
   ]
  },
  {
   "cell_type": "code",
   "execution_count": null,
   "metadata": {},
   "outputs": [],
   "source": [
    "plt.figure(figsize=(10,10))\n",
    "plot_graph_3d(pruned_graph, font_size=8)"
   ]
  },
  {
   "cell_type": "code",
   "execution_count": null,
   "metadata": {},
   "outputs": [],
   "source": [
    "locs = []\n",
    "for n in nx.dfs_preorder_nodes(pruned_graph,source=115):\n",
    "    locs.append(pruned_graph.nodes[n][\"pos\"])"
   ]
  },
  {
   "cell_type": "code",
   "execution_count": null,
   "metadata": {},
   "outputs": [],
   "source": [
    "deleted_node = 120 "
   ]
  },
  {
   "cell_type": "code",
   "execution_count": null,
   "metadata": {},
   "outputs": [],
   "source": [
    "pruned_graph.remove_node(deleted_node)"
   ]
  },
  {
   "cell_type": "code",
   "execution_count": null,
   "metadata": {},
   "outputs": [],
   "source": [
    "subgraphs = list(nx.connected_components(pruned_graph))"
   ]
  },
  {
   "cell_type": "code",
   "execution_count": null,
   "metadata": {},
   "outputs": [],
   "source": [
    "subgraphs = [pruned_graph.subgraph(c) for c in subgraphs]"
   ]
  },
  {
   "cell_type": "code",
   "execution_count": null,
   "metadata": {},
   "outputs": [],
   "source": [
    "subgraph_node_list = list(subgraphs[1].nodes())"
   ]
  },
  {
   "cell_type": "code",
   "execution_count": null,
   "metadata": {},
   "outputs": [],
   "source": [
    "subgraph_node_list"
   ]
  },
  {
   "cell_type": "code",
   "execution_count": null,
   "metadata": {},
   "outputs": [],
   "source": [
    "def filter_generator(generator, excluded_nodes):\n",
    "    \"\"\"\n",
    "    Filters a generator, removing elements whose index is present in the excluded_nodes list.\n",
    "\n",
    "    Args:\n",
    "        generator: A generator yielding elements with an index.\n",
    "        excluded_nodes: A list of node indexes to exclude.\n",
    "\n",
    "    Yields:\n",
    "        Elements from the generator whose index is not in the excluded_nodes list.\n",
    "    \"\"\"\n",
    "    excluded_nodes_set = set(excluded_nodes)\n",
    "    for index, element in enumerate(generator):\n",
    "        if element not in excluded_nodes_set:\n",
    "            yield element"
   ]
  },
  {
   "cell_type": "code",
   "execution_count": null,
   "metadata": {},
   "outputs": [],
   "source": [
    "filtered_generator = filter_generator(data_generator, subgraph_node_list)"
   ]
  },
  {
   "cell_type": "code",
   "execution_count": null,
   "metadata": {},
   "outputs": [],
   "source": [
    "list(filtered_generator)"
   ]
  }
 ],
 "metadata": {
  "language_info": {
   "name": "python"
  },
  "orig_nbformat": 4
 },
 "nbformat": 4,
 "nbformat_minor": 2
}
